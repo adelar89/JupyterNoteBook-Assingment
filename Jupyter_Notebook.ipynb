{
 "cells": [
  {
   "cell_type": "markdown",
   "metadata": {},
   "source": [
    "<center>\n",
    "    <img src=\"https://s3-api.us-geo.objectstorage.softlayer.net/cf-courses-data/CognitiveClass/Logos/organization_logo/organization_logo.png\" width=\"300\" alt=\"cognitiveclass.ai logo\"  />\n",
    "</center>\n"
   ]
  },
  {
   "cell_type": "markdown",
   "metadata": {},
   "source": [
    "#### Add your code below following the instructions given in the course\n"
   ]
  },
  {
   "cell_type": "markdown",
   "metadata": {},
   "source": [
    "# My Jupyter Notebook on IBM Watson Studio"
   ]
  },
  {
   "cell_type": "markdown",
   "metadata": {},
   "source": [
    "<b>Alberto De La Rosa</b><br>\n",
    "I am currenlty a math tutor. However, my desired occupation is machine learning engineer. "
   ]
  },
  {
   "cell_type": "markdown",
   "metadata": {},
   "source": [
    "<i>I am interested in data science so I can furhter apply this to artificial intellegent applications in network management. I also want to go into the field of robotics and data science is the first step to allow robots to interpet the world accordinlgy</i>"
   ]
  },
  {
   "cell_type": "markdown",
   "metadata": {},
   "source": [
    "<h3>The code below is a simple for loop that iterates from the range 1 to 5 and prints out the current value of i at each iteration. Keep in mind that the for loop iterates from range start to n-1, that is 1 to 6-1, which is from 1 to 5.<h3>"
   ]
  },
  {
   "cell_type": "code",
   "execution_count": 3,
   "metadata": {},
   "outputs": [
    {
     "name": "stdout",
     "output_type": "stream",
     "text": [
      "1\n",
      "2\n",
      "3\n",
      "4\n",
      "5\n"
     ]
    }
   ],
   "source": [
    "for i in range(1,6):\n",
    "    print(i)"
   ]
  },
  {
   "cell_type": "markdown",
   "metadata": {},
   "source": [
    "NUMBERED LIST<br>\n",
    "My Favorite movies:<br>\n",
    "<ol>\n",
    "    <li>John Wick</li>\n",
    "    <li>Interstellar</li>\n",
    "    <li>The Dark Kinight Rises</li>\n",
    "</ol>\n",
    "\n",
    "<br>\n",
    "HORIZONTAL RULE\n",
    "<br>\n",
    "<hr>\n",
    "<hr>\n",
    "TABLE<br>\n",
    "<table>\n",
    "  <tr>\n",
    "    <th>Deep Learning</th>\n",
    "    <th>Supervised Learning</th>\n",
    "    <th>Unsupervised Learning</th>\n",
    "  </tr>\n",
    "  <tr>\n",
    "    <td>CNN</td>\n",
    "    <td>Decision Trees</td>\n",
    "    <td>K-Means</td>\n",
    "  </tr>\n",
    "  <tr>\n",
    "    <td>GANs</td>\n",
    "    <td>Naive Bayes</td>\n",
    "    <td>KNN</td>\n",
    "  </tr>\n",
    "</table>\n",
    "\n"
   ]
  },
  {
   "cell_type": "code",
   "execution_count": null,
   "metadata": {},
   "outputs": [],
   "source": []
  }
 ],
 "metadata": {
  "kernelspec": {
   "display_name": "Python 3 (ipykernel)",
   "language": "python",
   "name": "python3"
  },
  "language_info": {
   "codemirror_mode": {
    "name": "ipython",
    "version": 3
   },
   "file_extension": ".py",
   "mimetype": "text/x-python",
   "name": "python",
   "nbconvert_exporter": "python",
   "pygments_lexer": "ipython3",
   "version": "3.9.12"
  }
 },
 "nbformat": 4,
 "nbformat_minor": 4
}
